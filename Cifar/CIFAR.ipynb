{
 "cells": [
  {
   "cell_type": "markdown",
   "metadata": {},
   "source": [
    "# CIFAR Dataset"
   ]
  },
  {
   "cell_type": "code",
   "execution_count": 54,
   "metadata": {},
   "outputs": [],
   "source": [
    "import numpy as np\n",
    "import pandas as plt\n",
    "import matplotlib.pyplot as plt\n",
    "%matplotlib inline\n",
    "from keras.datasets import cifar10\n",
    "from keras.utils import np_utils\n",
    "from keras import backend as K\n",
    "from keras.callbacks import Callback\n",
    "import warnings\n",
    "warnings.filterwarnings('ignore')\n",
    "K.set_image_data_format('channels_last')"
   ]
  },
  {
   "cell_type": "code",
   "execution_count": 55,
   "metadata": {},
   "outputs": [],
   "source": [
    "# Loading data\n",
    "(X_train,y_train),(X_test,y_test) = cifar10.load_data()"
   ]
  },
  {
   "cell_type": "code",
   "execution_count": 56,
   "metadata": {},
   "outputs": [],
   "source": [
    "# Converting data to float32\n",
    "X_train = X_train.astype('float32')\n",
    "X_test = X_test.astype('float32')"
   ]
  },
  {
   "cell_type": "code",
   "execution_count": 57,
   "metadata": {},
   "outputs": [
    {
     "name": "stdout",
     "output_type": "stream",
     "text": [
      "(50000, 32, 32, 3)\n",
      "(50000, 1)\n"
     ]
    }
   ],
   "source": [
    "# Shape of the data\n",
    "print(X_train.shape)\n",
    "print(y_train.shape)"
   ]
  },
  {
   "cell_type": "code",
   "execution_count": 58,
   "metadata": {},
   "outputs": [],
   "source": [
    "# Normalizing the data\n",
    "mean = np.mean(X_train,axis=(0,1,2,3))\n",
    "std = np.std(X_train,axis=(0,1,2,3))\n",
    "X_train = (X_train-mean)/(std+1e-7)\n",
    "X_test = (X_test-mean)/(std+1e-7)"
   ]
  },
  {
   "cell_type": "code",
   "execution_count": 59,
   "metadata": {
    "scrolled": true
   },
   "outputs": [],
   "source": [
    "# One hot encoding labels\n",
    "from sklearn.preprocessing import OneHotEncoder\n",
    "ohe = OneHotEncoder()\n",
    "y_train = ohe.fit_transform(y_train)\n",
    "y_test = ohe.fit_transform(y_test)"
   ]
  },
  {
   "cell_type": "code",
   "execution_count": 60,
   "metadata": {},
   "outputs": [
    {
     "name": "stdout",
     "output_type": "stream",
     "text": [
      "(50000, 32, 32, 3)\n",
      "(50000, 10)\n"
     ]
    }
   ],
   "source": [
    "# Shape of the data\n",
    "print(X_train.shape)\n",
    "print(y_train.shape)"
   ]
  },
  {
   "cell_type": "code",
   "execution_count": 61,
   "metadata": {},
   "outputs": [],
   "source": [
    "# Building the model\n",
    "from keras.models import Sequential\n",
    "from keras.layers import Dense,Convolution2D,MaxPooling2D,Flatten,Dropout"
   ]
  },
  {
   "cell_type": "code",
   "execution_count": 62,
   "metadata": {},
   "outputs": [],
   "source": [
    "input_shape = (32,32,3)\n",
    "def create_model():\n",
    "    model = Sequential()\n",
    "\n",
    "    model.add(Convolution2D(32,(3,3),padding='same',activation='relu',input_shape=input_shape))\n",
    "    model.add(Convolution2D(32,(3,3),activation='relu'))\n",
    "    model.add(MaxPooling2D(pool_size=(2,2)))\n",
    "    model.add(Dropout(0.4))\n",
    "\n",
    "    model.add(Convolution2D(64,(3,3),padding='same',activation='relu'))\n",
    "    model.add(Convolution2D(64,(3,3),activation='relu'))\n",
    "    model.add(MaxPooling2D(pool_size=(2,2)))\n",
    "    model.add(Dropout(0.4))\n",
    "\n",
    "    model.add(Convolution2D(64,(3,3),padding='same',activation='relu'))\n",
    "    model.add(Convolution2D(64,(3,3),activation='relu'))\n",
    "    model.add(MaxPooling2D(pool_size=(2,2)))\n",
    "    model.add(Dropout(0.4))\n",
    "\n",
    "    model.add(Flatten())\n",
    "    model.add(Dense(512,activation='relu'))\n",
    "    model.add(Dropout(0.4))\n",
    "    model.add(Dense(10,activation='softmax'))\n",
    "    return model"
   ]
  },
  {
   "cell_type": "code",
   "execution_count": 63,
   "metadata": {},
   "outputs": [],
   "source": [
    "K.clear_session()\n",
    "model = create_model()"
   ]
  },
  {
   "cell_type": "code",
   "execution_count": 64,
   "metadata": {},
   "outputs": [],
   "source": [
    "# Compiling model\n",
    "from keras.optimizers import Adam\n",
    "adam = Adam(learning_rate=0.001)\n",
    "model.compile(optimizer=adam,loss='categorical_crossentropy',metrics=['accuracy'])"
   ]
  },
  {
   "cell_type": "code",
   "execution_count": 65,
   "metadata": {},
   "outputs": [],
   "source": [
    "# Custom callback for logging\n",
    "class CustomCallBack(Callback):\n",
    "    def on_epoch_end(self,epoch,logs={}):\n",
    "        if(epoch%5==0):\n",
    "            print(\"Finished epoch \",epoch)\n",
    "            print(\"-----------------------\")\n",
    "            print(\"Loss on training data:\",logs.get('loss'))\n",
    "            print(\"Accuracy on training data:\",logs.get('accuracy'))\n",
    "            print(\"Loss on testing data:\",logs.get('val_loss'))\n",
    "            print(\"Accuracy on testing data:\",logs.get('val_accuracy'))\n",
    "            print('\\n')\n",
    "            return"
   ]
  },
  {
   "cell_type": "code",
   "execution_count": 66,
   "metadata": {
    "scrolled": false
   },
   "outputs": [
    {
     "name": "stdout",
     "output_type": "stream",
     "text": [
      "Finished epoch  0\n",
      "-----------------------\n",
      "Loss on training data: 1.8520715884017944\n",
      "Accuracy on training data: 0.30096\n",
      "Loss on testing data: 1.501058644104004\n",
      "Accuracy on testing data: 0.4320000112056732\n",
      "\n",
      "\n",
      "Finished epoch  5\n",
      "-----------------------\n",
      "Loss on training data: 0.9885739407348633\n",
      "Accuracy on training data: 0.64974\n",
      "Loss on testing data: 0.9055987649917603\n",
      "Accuracy on testing data: 0.6840000152587891\n",
      "\n",
      "\n",
      "Finished epoch  10\n",
      "-----------------------\n",
      "Loss on training data: 0.7929713722229004\n",
      "Accuracy on training data: 0.7225\n",
      "Loss on testing data: 0.7514262662887573\n",
      "Accuracy on testing data: 0.7401999831199646\n",
      "\n",
      "\n",
      "Finished epoch  15\n",
      "-----------------------\n",
      "Loss on training data: 0.7029623132705688\n",
      "Accuracy on training data: 0.75394\n",
      "Loss on testing data: 0.6604190494537353\n",
      "Accuracy on testing data: 0.7732999920845032\n",
      "\n",
      "\n",
      "Finished epoch  20\n",
      "-----------------------\n",
      "Loss on training data: 0.6476470467758179\n",
      "Accuracy on training data: 0.77344\n",
      "Loss on testing data: 0.6504620532989502\n",
      "Accuracy on testing data: 0.7764000296592712\n",
      "\n",
      "\n",
      "Finished epoch  25\n",
      "-----------------------\n",
      "Loss on training data: 0.6087175621986389\n",
      "Accuracy on training data: 0.78582\n",
      "Loss on testing data: 0.6103224670410157\n",
      "Accuracy on testing data: 0.7900999784469604\n",
      "\n",
      "\n",
      "Finished epoch  30\n",
      "-----------------------\n",
      "Loss on training data: 0.5761361406898499\n",
      "Accuracy on training data: 0.79882\n",
      "Loss on testing data: 0.5624644089698791\n",
      "Accuracy on testing data: 0.8093000054359436\n",
      "\n",
      "\n",
      "Finished epoch  35\n",
      "-----------------------\n",
      "Loss on training data: 0.5568193608283997\n",
      "Accuracy on training data: 0.80536\n",
      "Loss on testing data: 0.5367467404365539\n",
      "Accuracy on testing data: 0.8184000253677368\n",
      "\n",
      "\n",
      "Finished epoch  40\n",
      "-----------------------\n",
      "Loss on training data: 0.5346190721702576\n",
      "Accuracy on training data: 0.81334\n",
      "Loss on testing data: 0.5923779566764832\n",
      "Accuracy on testing data: 0.8039000034332275\n",
      "\n",
      "\n",
      "Finished epoch  45\n",
      "-----------------------\n",
      "Loss on training data: 0.5336169304466247\n",
      "Accuracy on training data: 0.8138\n",
      "Loss on testing data: 0.5460670946121216\n",
      "Accuracy on testing data: 0.8176000118255615\n",
      "\n",
      "\n"
     ]
    }
   ],
   "source": [
    "# Training the model\n",
    "history = model.fit(X_train,y_train,epochs=50,batch_size=256,validation_data=(X_test,y_test),\n",
    "          workers=8,use_multiprocessing=True,verbose=0,callbacks=[CustomCallBack()])"
   ]
  },
  {
   "cell_type": "code",
   "execution_count": 67,
   "metadata": {},
   "outputs": [
    {
     "data": {
      "text/plain": [
       "Text(0.5, 1.0, 'Accuracy Curve')"
      ]
     },
     "execution_count": 67,
     "metadata": {},
     "output_type": "execute_result"
    },
    {
     "data": {
      "image/png": "[encoded data removed]",
      "text/plain": [
       "<Figure size 576x432 with 1 Axes>"
      ]
     },
     "metadata": {
      "needs_background": "light"
     },
     "output_type": "display_data"
    },
    {
     "data": {
      "image/png": "[encoded data removed]",
      "text/plain": [
       "<Figure size 576x432 with 1 Axes>"
      ]
     },
     "metadata": {
      "needs_background": "light"
     },
     "output_type": "display_data"
    }
   ],
   "source": [
    "# Loss Curves\n",
    "plt.figure(figsize=(8,6))\n",
    "plt.plot(history.history['loss'])\n",
    "plt.plot(history.history['val_loss'],ls='--')\n",
    "plt.legend(['Training Loss','Testing Loss'])\n",
    "plt.xlabel('Epochs')\n",
    "plt.ylabel('Loss')\n",
    "plt.title(\"Loss Curve\")\n",
    "\n",
    "# Accuracy Curves\n",
    "plt.figure(figsize=(8,6))\n",
    "plt.plot(history.history['accuracy'])\n",
    "plt.plot(history.history['val_accuracy'],ls='--')\n",
    "plt.legend(['Training Accuracy','Testing Accuracy'])\n",
    "plt.xlabel('Epochs')\n",
    "plt.ylabel('Accuracy')\n",
    "plt.title(\"Accuracy Curve\")"
   ]
  },
  {
   "cell_type": "code",
   "execution_count": null,
   "metadata": {},
   "outputs": [],
   "source": []
  }
 ],
 "metadata": {
  "kernelspec": {
   "display_name": "Python 3",
   "language": "python",
   "name": "python3"
  },
  "language_info": {
   "codemirror_mode": {
    "name": "ipython",
    "version": 3
   },
   "file_extension": ".py",
   "mimetype": "text/x-python",
   "name": "python",
   "nbconvert_exporter": "python",
   "pygments_lexer": "ipython3",
   "version": "3.7.7"
  }
 },
 "nbformat": 4,
 "nbformat_minor": 4
}
