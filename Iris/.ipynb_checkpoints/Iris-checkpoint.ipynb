{
 "cells": [
  {
   "cell_type": "markdown",
   "metadata": {},
   "source": [
    "# Iris"
   ]
  },
  {
   "cell_type": "code",
   "execution_count": 1,
   "metadata": {},
   "outputs": [],
   "source": [
    "import numpy as np\n",
    "import pandas as pd"
   ]
  },
  {
   "cell_type": "code",
   "execution_count": 2,
   "metadata": {},
   "outputs": [
    {
     "data": {
      "text/html": [
       "<div>\n",
       "<style scoped>\n",
       "    .dataframe tbody tr th:only-of-type {\n",
       "        vertical-align: middle;\n",
       "    }\n",
       "\n",
       "    .dataframe tbody tr th {\n",
       "        vertical-align: top;\n",
       "    }\n",
       "\n",
       "    .dataframe thead th {\n",
       "        text-align: right;\n",
       "    }\n",
       "</style>\n",
       "<table border=\"1\" class=\"dataframe\">\n",
       "  <thead>\n",
       "    <tr style=\"text-align: right;\">\n",
       "      <th></th>\n",
       "      <th>sepal length (cm)</th>\n",
       "      <th>sepal width (cm)</th>\n",
       "      <th>petal length (cm)</th>\n",
       "      <th>petal width (cm)</th>\n",
       "      <th>target</th>\n",
       "    </tr>\n",
       "  </thead>\n",
       "  <tbody>\n",
       "    <tr>\n",
       "      <td>0</td>\n",
       "      <td>5.1</td>\n",
       "      <td>3.5</td>\n",
       "      <td>1.4</td>\n",
       "      <td>0.2</td>\n",
       "      <td>0.0</td>\n",
       "    </tr>\n",
       "    <tr>\n",
       "      <td>1</td>\n",
       "      <td>4.9</td>\n",
       "      <td>3.0</td>\n",
       "      <td>1.4</td>\n",
       "      <td>0.2</td>\n",
       "      <td>0.0</td>\n",
       "    </tr>\n",
       "    <tr>\n",
       "      <td>2</td>\n",
       "      <td>4.7</td>\n",
       "      <td>3.2</td>\n",
       "      <td>1.3</td>\n",
       "      <td>0.2</td>\n",
       "      <td>0.0</td>\n",
       "    </tr>\n",
       "    <tr>\n",
       "      <td>3</td>\n",
       "      <td>4.6</td>\n",
       "      <td>3.1</td>\n",
       "      <td>1.5</td>\n",
       "      <td>0.2</td>\n",
       "      <td>0.0</td>\n",
       "    </tr>\n",
       "    <tr>\n",
       "      <td>4</td>\n",
       "      <td>5.0</td>\n",
       "      <td>3.6</td>\n",
       "      <td>1.4</td>\n",
       "      <td>0.2</td>\n",
       "      <td>0.0</td>\n",
       "    </tr>\n",
       "  </tbody>\n",
       "</table>\n",
       "</div>"
      ],
      "text/plain": [
       "   sepal length (cm)  sepal width (cm)  petal length (cm)  petal width (cm)  \\\n",
       "0                5.1               3.5                1.4               0.2   \n",
       "1                4.9               3.0                1.4               0.2   \n",
       "2                4.7               3.2                1.3               0.2   \n",
       "3                4.6               3.1                1.5               0.2   \n",
       "4                5.0               3.6                1.4               0.2   \n",
       "\n",
       "   target  \n",
       "0     0.0  \n",
       "1     0.0  \n",
       "2     0.0  \n",
       "3     0.0  \n",
       "4     0.0  "
      ]
     },
     "execution_count": 2,
     "metadata": {},
     "output_type": "execute_result"
    }
   ],
   "source": [
    "iris = pd.read_csv('iris.csv')\n",
    "iris.head()"
   ]
  },
  {
   "cell_type": "code",
   "execution_count": 3,
   "metadata": {},
   "outputs": [],
   "source": [
    "iris.columns = ['sepal_length','sepal_width','petal_length','petal_width','target']"
   ]
  },
  {
   "cell_type": "code",
   "execution_count": 4,
   "metadata": {},
   "outputs": [],
   "source": [
    "iris['target'] = iris['target'].apply(int)"
   ]
  },
  {
   "cell_type": "code",
   "execution_count": 5,
   "metadata": {},
   "outputs": [
    {
     "data": {
      "text/html": [
       "<div>\n",
       "<style scoped>\n",
       "    .dataframe tbody tr th:only-of-type {\n",
       "        vertical-align: middle;\n",
       "    }\n",
       "\n",
       "    .dataframe tbody tr th {\n",
       "        vertical-align: top;\n",
       "    }\n",
       "\n",
       "    .dataframe thead th {\n",
       "        text-align: right;\n",
       "    }\n",
       "</style>\n",
       "<table border=\"1\" class=\"dataframe\">\n",
       "  <thead>\n",
       "    <tr style=\"text-align: right;\">\n",
       "      <th></th>\n",
       "      <th>sepal_length</th>\n",
       "      <th>sepal_width</th>\n",
       "      <th>petal_length</th>\n",
       "      <th>petal_width</th>\n",
       "      <th>target</th>\n",
       "    </tr>\n",
       "  </thead>\n",
       "  <tbody>\n",
       "    <tr>\n",
       "      <td>0</td>\n",
       "      <td>5.1</td>\n",
       "      <td>3.5</td>\n",
       "      <td>1.4</td>\n",
       "      <td>0.2</td>\n",
       "      <td>0</td>\n",
       "    </tr>\n",
       "    <tr>\n",
       "      <td>1</td>\n",
       "      <td>4.9</td>\n",
       "      <td>3.0</td>\n",
       "      <td>1.4</td>\n",
       "      <td>0.2</td>\n",
       "      <td>0</td>\n",
       "    </tr>\n",
       "    <tr>\n",
       "      <td>2</td>\n",
       "      <td>4.7</td>\n",
       "      <td>3.2</td>\n",
       "      <td>1.3</td>\n",
       "      <td>0.2</td>\n",
       "      <td>0</td>\n",
       "    </tr>\n",
       "    <tr>\n",
       "      <td>3</td>\n",
       "      <td>4.6</td>\n",
       "      <td>3.1</td>\n",
       "      <td>1.5</td>\n",
       "      <td>0.2</td>\n",
       "      <td>0</td>\n",
       "    </tr>\n",
       "    <tr>\n",
       "      <td>4</td>\n",
       "      <td>5.0</td>\n",
       "      <td>3.6</td>\n",
       "      <td>1.4</td>\n",
       "      <td>0.2</td>\n",
       "      <td>0</td>\n",
       "    </tr>\n",
       "  </tbody>\n",
       "</table>\n",
       "</div>"
      ],
      "text/plain": [
       "   sepal_length  sepal_width  petal_length  petal_width  target\n",
       "0           5.1          3.5           1.4          0.2       0\n",
       "1           4.9          3.0           1.4          0.2       0\n",
       "2           4.7          3.2           1.3          0.2       0\n",
       "3           4.6          3.1           1.5          0.2       0\n",
       "4           5.0          3.6           1.4          0.2       0"
      ]
     },
     "execution_count": 5,
     "metadata": {},
     "output_type": "execute_result"
    }
   ],
   "source": [
    "iris.head()"
   ]
  },
  {
   "cell_type": "code",
   "execution_count": 6,
   "metadata": {},
   "outputs": [
    {
     "name": "stdout",
     "output_type": "stream",
     "text": [
      "<class 'pandas.core.frame.DataFrame'>\n",
      "RangeIndex: 150 entries, 0 to 149\n",
      "Data columns (total 5 columns):\n",
      "sepal_length    150 non-null float64\n",
      "sepal_width     150 non-null float64\n",
      "petal_length    150 non-null float64\n",
      "petal_width     150 non-null float64\n",
      "target          150 non-null int64\n",
      "dtypes: float64(4), int64(1)\n",
      "memory usage: 6.0 KB\n"
     ]
    }
   ],
   "source": [
    "iris.info()"
   ]
  },
  {
   "cell_type": "code",
   "execution_count": 8,
   "metadata": {},
   "outputs": [],
   "source": [
    "X = iris.drop('target',axis=1)\n",
    "y = iris['target']"
   ]
  },
  {
   "cell_type": "code",
   "execution_count": 9,
   "metadata": {},
   "outputs": [],
   "source": [
    "from sklearn.model_selection import train_test_split"
   ]
  },
  {
   "cell_type": "code",
   "execution_count": 10,
   "metadata": {},
   "outputs": [],
   "source": [
    "X_train, X_test, y_train, y_test = train_test_split(X, y, test_size=0.3, random_state=42)"
   ]
  },
  {
   "cell_type": "code",
   "execution_count": 11,
   "metadata": {},
   "outputs": [],
   "source": [
    "import tensorflow as tf"
   ]
  },
  {
   "cell_type": "code",
   "execution_count": 12,
   "metadata": {},
   "outputs": [],
   "source": [
    "feat_cols = []\n",
    "for col in X.columns:\n",
    "    feat_cols.append(tf.feature_column.numeric_column(col))"
   ]
  },
  {
   "cell_type": "code",
   "execution_count": 13,
   "metadata": {},
   "outputs": [
    {
     "data": {
      "text/plain": [
       "[NumericColumn(key='sepal_length', shape=(1,), default_value=None, dtype=tf.float32, normalizer_fn=None),\n",
       " NumericColumn(key='sepal_width', shape=(1,), default_value=None, dtype=tf.float32, normalizer_fn=None),\n",
       " NumericColumn(key='petal_length', shape=(1,), default_value=None, dtype=tf.float32, normalizer_fn=None),\n",
       " NumericColumn(key='petal_width', shape=(1,), default_value=None, dtype=tf.float32, normalizer_fn=None)]"
      ]
     },
     "execution_count": 13,
     "metadata": {},
     "output_type": "execute_result"
    }
   ],
   "source": [
    "feat_cols"
   ]
  },
  {
   "cell_type": "code",
   "execution_count": 17,
   "metadata": {},
   "outputs": [],
   "source": [
    "input_func = tf.compat.v1.estimator.inputs.pandas_input_fn(x=X_train,y=y_train,batch_size=10,num_epochs=5,shuffle=True)"
   ]
  },
  {
   "cell_type": "code",
   "execution_count": 18,
   "metadata": {},
   "outputs": [
    {
     "name": "stdout",
     "output_type": "stream",
     "text": [
      "INFO:tensorflow:Using default config.\n",
      "WARNING:tensorflow:Using temporary folder as model directory: C:\\Users\\ABHINA~1\\AppData\\Local\\Temp\\tmpus9mo9gp\n",
      "INFO:tensorflow:Using config: {'_model_dir': 'C:\\\\Users\\\\ABHINA~1\\\\AppData\\\\Local\\\\Temp\\\\tmpus9mo9gp', '_tf_random_seed': None, '_save_summary_steps': 100, '_save_checkpoints_steps': None, '_save_checkpoints_secs': 600, '_session_config': allow_soft_placement: true\n",
      "graph_options {\n",
      "  rewrite_options {\n",
      "    meta_optimizer_iterations: ONE\n",
      "  }\n",
      "}\n",
      ", '_keep_checkpoint_max': 5, '_keep_checkpoint_every_n_hours': 10000, '_log_step_count_steps': 100, '_train_distribute': None, '_device_fn': None, '_protocol': None, '_eval_distribute': None, '_experimental_distribute': None, '_experimental_max_worker_delay_secs': None, '_session_creation_timeout_secs': 7200, '_service': None, '_cluster_spec': ClusterSpec({}), '_task_type': 'worker', '_task_id': 0, '_global_id_in_cluster': 0, '_master': '', '_evaluation_master': '', '_is_chief': True, '_num_ps_replicas': 0, '_num_worker_replicas': 1}\n"
     ]
    }
   ],
   "source": [
    "classifier = tf.compat.v1.estimator.DNNClassifier(hidden_units=[10,20,10],feature_columns=feat_cols,n_classes=3)"
   ]
  },
  {
   "cell_type": "code",
   "execution_count": 19,
   "metadata": {},
   "outputs": [
    {
     "name": "stdout",
     "output_type": "stream",
     "text": [
      "WARNING:tensorflow:From C:\\ProgramData\\Anaconda3\\lib\\site-packages\\tensorflow_core\\python\\ops\\resource_variable_ops.py:1635: calling BaseResourceVariable.__init__ (from tensorflow.python.ops.resource_variable_ops) with constraint is deprecated and will be removed in a future version.\n",
      "Instructions for updating:\n",
      "If using Keras pass *_constraint arguments to layers.\n",
      "WARNING:tensorflow:From C:\\ProgramData\\Anaconda3\\lib\\site-packages\\tensorflow_core\\python\\training\\training_util.py:236: Variable.initialized_value (from tensorflow.python.ops.variables) is deprecated and will be removed in a future version.\n",
      "Instructions for updating:\n",
      "Use Variable.read_value. Variables in 2.X are initialized automatically both in eager and graph (inside tf.defun) contexts.\n",
      "WARNING:tensorflow:From C:\\ProgramData\\Anaconda3\\lib\\site-packages\\tensorflow_estimator\\python\\estimator\\inputs\\queues\\feeding_queue_runner.py:62: QueueRunner.__init__ (from tensorflow.python.training.queue_runner_impl) is deprecated and will be removed in a future version.\n",
      "Instructions for updating:\n",
      "To construct input pipelines, use the `tf.data` module.\n",
      "WARNING:tensorflow:From C:\\ProgramData\\Anaconda3\\lib\\site-packages\\tensorflow_estimator\\python\\estimator\\inputs\\queues\\feeding_functions.py:500: add_queue_runner (from tensorflow.python.training.queue_runner_impl) is deprecated and will be removed in a future version.\n",
      "Instructions for updating:\n",
      "To construct input pipelines, use the `tf.data` module.\n",
      "INFO:tensorflow:Calling model_fn.\n",
      "WARNING:tensorflow:Layer dnn is casting an input tensor from dtype float64 to the layer's dtype of float32, which is new behavior in TensorFlow 2.  The layer has dtype float32 because it's dtype defaults to floatx.\n",
      "\n",
      "If you intended to run this layer in float32, you can safely ignore this warning. If in doubt, this warning is likely only an issue if you are porting a TensorFlow 1.X model to TensorFlow 2.\n",
      "\n",
      "To change all layers to have dtype float64 by default, call `tf.keras.backend.set_floatx('float64')`. To change just this layer, pass dtype='float64' to the layer constructor. If you are the author of this layer, you can disable autocasting by passing autocast=False to the base Layer constructor.\n",
      "\n",
      "WARNING:tensorflow:From C:\\ProgramData\\Anaconda3\\lib\\site-packages\\tensorflow_core\\python\\training\\adagrad.py:76: calling Constant.__init__ (from tensorflow.python.ops.init_ops) with dtype is deprecated and will be removed in a future version.\n",
      "Instructions for updating:\n",
      "Call initializer instance with the dtype argument instead of passing it to the constructor\n",
      "INFO:tensorflow:Done calling model_fn.\n",
      "INFO:tensorflow:Create CheckpointSaverHook.\n",
      "INFO:tensorflow:Graph was finalized.\n",
      "INFO:tensorflow:Running local_init_op.\n",
      "INFO:tensorflow:Done running local_init_op.\n",
      "WARNING:tensorflow:From C:\\ProgramData\\Anaconda3\\lib\\site-packages\\tensorflow_core\\python\\training\\monitored_session.py:906: start_queue_runners (from tensorflow.python.training.queue_runner_impl) is deprecated and will be removed in a future version.\n",
      "Instructions for updating:\n",
      "To construct input pipelines, use the `tf.data` module.\n",
      "INFO:tensorflow:Saving checkpoints for 0 into C:\\Users\\ABHINA~1\\AppData\\Local\\Temp\\tmpus9mo9gp\\model.ckpt.\n",
      "INFO:tensorflow:loss = 19.834805, step = 0\n",
      "INFO:tensorflow:Saving checkpoints for 50 into C:\\Users\\ABHINA~1\\AppData\\Local\\Temp\\tmpus9mo9gp\\model.ckpt.\n",
      "INFO:tensorflow:Loss for final step: 3.617947.\n"
     ]
    },
    {
     "data": {
      "text/plain": [
       "<tensorflow_estimator.python.estimator.canned.dnn.DNNClassifier at 0x2ae1ae8c708>"
      ]
     },
     "execution_count": 19,
     "metadata": {},
     "output_type": "execute_result"
    }
   ],
   "source": [
    "classifier.train(input_fn=input_func,steps=50)"
   ]
  },
  {
   "cell_type": "code",
   "execution_count": 20,
   "metadata": {},
   "outputs": [],
   "source": [
    "pred_func = tf.compat.v1.estimator.inputs.pandas_input_fn(x=X_test,batch_size=len(X_test),shuffle=False)"
   ]
  },
  {
   "cell_type": "code",
   "execution_count": 21,
   "metadata": {},
   "outputs": [
    {
     "name": "stdout",
     "output_type": "stream",
     "text": [
      "INFO:tensorflow:Calling model_fn.\n",
      "WARNING:tensorflow:Layer dnn is casting an input tensor from dtype float64 to the layer's dtype of float32, which is new behavior in TensorFlow 2.  The layer has dtype float32 because it's dtype defaults to floatx.\n",
      "\n",
      "If you intended to run this layer in float32, you can safely ignore this warning. If in doubt, this warning is likely only an issue if you are porting a TensorFlow 1.X model to TensorFlow 2.\n",
      "\n",
      "To change all layers to have dtype float64 by default, call `tf.keras.backend.set_floatx('float64')`. To change just this layer, pass dtype='float64' to the layer constructor. If you are the author of this layer, you can disable autocasting by passing autocast=False to the base Layer constructor.\n",
      "\n",
      "INFO:tensorflow:Done calling model_fn.\n",
      "INFO:tensorflow:Graph was finalized.\n",
      "INFO:tensorflow:Restoring parameters from C:\\Users\\ABHINA~1\\AppData\\Local\\Temp\\tmpus9mo9gp\\model.ckpt-50\n",
      "INFO:tensorflow:Running local_init_op.\n",
      "INFO:tensorflow:Done running local_init_op.\n"
     ]
    }
   ],
   "source": [
    "predictions = list(classifier.predict(input_fn=pred_func))"
   ]
  },
  {
   "cell_type": "code",
   "execution_count": 22,
   "metadata": {},
   "outputs": [
    {
     "data": {
      "text/plain": [
       "[{'logits': array([-5.9414883 , -0.5273106 ,  0.23634546], dtype=float32),\n",
       "  'probabilities': array([0.0014134 , 0.3174038 , 0.68118286], dtype=float32),\n",
       "  'class_ids': array([2], dtype=int64),\n",
       "  'classes': array([b'2'], dtype=object),\n",
       "  'all_class_ids': array([0, 1, 2]),\n",
       "  'all_classes': array([b'0', b'1', b'2'], dtype=object)},\n",
       " {'logits': array([ 6.047943  ,  1.031962  , -0.56791764], dtype=float32),\n",
       "  'probabilities': array([0.9920929 , 0.00657869, 0.00132837], dtype=float32),\n",
       "  'class_ids': array([0], dtype=int64),\n",
       "  'classes': array([b'0'], dtype=object),\n",
       "  'all_class_ids': array([0, 1, 2]),\n",
       "  'all_classes': array([b'0', b'1', b'2'], dtype=object)},\n",
       " {'logits': array([-11.924767 ,  -1.9989015,   0.6081404], dtype=float32),\n",
       "  'probabilities': array([3.3583212e-06, 6.8686359e-02, 9.3131030e-01], dtype=float32),\n",
       "  'class_ids': array([2], dtype=int64),\n",
       "  'classes': array([b'2'], dtype=object),\n",
       "  'all_class_ids': array([0, 1, 2]),\n",
       "  'all_classes': array([b'0', b'1', b'2'], dtype=object)},\n",
       " {'logits': array([-5.6586804 , -0.44658077,  0.23003982], dtype=float32),\n",
       "  'probabilities': array([0.00183344, 0.33639807, 0.6617685 ], dtype=float32),\n",
       "  'class_ids': array([2], dtype=int64),\n",
       "  'classes': array([b'2'], dtype=object),\n",
       "  'all_class_ids': array([0, 1, 2]),\n",
       "  'all_classes': array([b'0', b'1', b'2'], dtype=object)},\n",
       " {'logits': array([-6.3039007 , -0.5260473 ,  0.27207476], dtype=float32),\n",
       "  'probabilities': array([0.00095996, 0.31012937, 0.68891066], dtype=float32),\n",
       "  'class_ids': array([2], dtype=int64),\n",
       "  'classes': array([b'2'], dtype=object),\n",
       "  'all_class_ids': array([0, 1, 2]),\n",
       "  'all_classes': array([b'0', b'1', b'2'], dtype=object)},\n",
       " {'logits': array([ 5.578171  ,  1.0332748 , -0.57446533], dtype=float32),\n",
       "  'probabilities': array([0.9874113 , 0.01048757, 0.00210108], dtype=float32),\n",
       "  'class_ids': array([0], dtype=int64),\n",
       "  'classes': array([b'0'], dtype=object),\n",
       "  'all_class_ids': array([0, 1, 2]),\n",
       "  'all_classes': array([b'0', b'1', b'2'], dtype=object)},\n",
       " {'logits': array([-2.8312252 ,  0.56451976,  0.07933731], dtype=float32),\n",
       "  'probabilities': array([0.02032355, 0.6063912 , 0.37328523], dtype=float32),\n",
       "  'class_ids': array([1], dtype=int64),\n",
       "  'classes': array([b'1'], dtype=object),\n",
       "  'all_class_ids': array([0, 1, 2]),\n",
       "  'all_classes': array([b'0', b'1', b'2'], dtype=object)},\n",
       " {'logits': array([-7.8799276, -1.1229974,  0.3775652], dtype=float32),\n",
       "  'probabilities': array([2.1198062e-04, 1.8230295e-01, 8.1748503e-01], dtype=float32),\n",
       "  'class_ids': array([2], dtype=int64),\n",
       "  'classes': array([b'2'], dtype=object),\n",
       "  'all_class_ids': array([0, 1, 2]),\n",
       "  'all_classes': array([b'0', b'1', b'2'], dtype=object)},\n",
       " {'logits': array([-6.9063573, -0.930514 ,  0.3031699], dtype=float32),\n",
       "  'probabilities': array([5.7239260e-04, 2.2540821e-01, 7.7401936e-01], dtype=float32),\n",
       "  'class_ids': array([2], dtype=int64),\n",
       "  'classes': array([b'2'], dtype=object),\n",
       "  'all_class_ids': array([0, 1, 2]),\n",
       "  'all_classes': array([b'0', b'1', b'2'], dtype=object)},\n",
       " {'logits': array([-3.911899  ,  0.17917801,  0.13416682], dtype=float32),\n",
       "  'probabilities': array([0.00847627, 0.5069174 , 0.48460636], dtype=float32),\n",
       "  'class_ids': array([1], dtype=int64),\n",
       "  'classes': array([b'1'], dtype=object),\n",
       "  'all_class_ids': array([0, 1, 2]),\n",
       "  'all_classes': array([b'0', b'1', b'2'], dtype=object)},\n",
       " {'logits': array([-7.4034348 , -1.0081302 ,  0.33623838], dtype=float32),\n",
       "  'probabilities': array([3.4509567e-04, 2.0672122e-01, 7.9293370e-01], dtype=float32),\n",
       "  'class_ids': array([2], dtype=int64),\n",
       "  'classes': array([b'2'], dtype=object),\n",
       "  'all_class_ids': array([0, 1, 2]),\n",
       "  'all_classes': array([b'0', b'1', b'2'], dtype=object)},\n",
       " {'logits': array([ 5.0385375 ,  0.95335925, -0.51176655], dtype=float32),\n",
       "  'probabilities': array([0.9797136 , 0.01647892, 0.00380744], dtype=float32),\n",
       "  'class_ids': array([0], dtype=int64),\n",
       "  'classes': array([b'0'], dtype=object),\n",
       "  'all_class_ids': array([0, 1, 2]),\n",
       "  'all_classes': array([b'0', b'1', b'2'], dtype=object)},\n",
       " {'logits': array([ 6.005374  ,  0.90780854, -0.55295587], dtype=float32),\n",
       "  'probabilities': array([0.9925264 , 0.00606593, 0.00140765], dtype=float32),\n",
       "  'class_ids': array([0], dtype=int64),\n",
       "  'classes': array([b'0'], dtype=object),\n",
       "  'all_class_ids': array([0, 1, 2]),\n",
       "  'all_classes': array([b'0', b'1', b'2'], dtype=object)},\n",
       " {'logits': array([ 5.097952  ,  0.98672765, -0.5169503 ], dtype=float32),\n",
       "  'probabilities': array([0.9803625 , 0.01606589, 0.00357162], dtype=float32),\n",
       "  'class_ids': array([0], dtype=int64),\n",
       "  'classes': array([b'0'], dtype=object),\n",
       "  'all_class_ids': array([0, 1, 2]),\n",
       "  'all_classes': array([b'0', b'1', b'2'], dtype=object)},\n",
       " {'logits': array([ 6.1630163 ,  0.7556345 , -0.46986794], dtype=float32),\n",
       "  'probabilities': array([0.9942338 , 0.00445751, 0.00130877], dtype=float32),\n",
       "  'class_ids': array([0], dtype=int64),\n",
       "  'classes': array([b'0'], dtype=object),\n",
       "  'all_class_ids': array([0, 1, 2]),\n",
       "  'all_classes': array([b'0', b'1', b'2'], dtype=object)},\n",
       " {'logits': array([-5.435042 , -0.2647283,  0.2223502], dtype=float32),\n",
       "  'probabilities': array([0.0021581, 0.3797607, 0.6180812], dtype=float32),\n",
       "  'class_ids': array([2], dtype=int64),\n",
       "  'classes': array([b'2'], dtype=object),\n",
       "  'all_class_ids': array([0, 1, 2]),\n",
       "  'all_classes': array([b'0', b'1', b'2'], dtype=object)},\n",
       " {'logits': array([-9.36743   , -1.546842  ,  0.45052958], dtype=float32),\n",
       "  'probabilities': array([4.79549490e-05, 1.19473435e-01, 8.80478561e-01], dtype=float32),\n",
       "  'class_ids': array([2], dtype=int64),\n",
       "  'classes': array([b'2'], dtype=object),\n",
       "  'all_class_ids': array([0, 1, 2]),\n",
       "  'all_classes': array([b'0', b'1', b'2'], dtype=object)},\n",
       " {'logits': array([-4.2554684 , -0.00903805,  0.14675198], dtype=float32),\n",
       "  'probabilities': array([0.00655791, 0.45810702, 0.53533506], dtype=float32),\n",
       "  'class_ids': array([2], dtype=int64),\n",
       "  'classes': array([b'2'], dtype=object),\n",
       "  'all_class_ids': array([0, 1, 2]),\n",
       "  'all_classes': array([b'0', b'1', b'2'], dtype=object)},\n",
       " {'logits': array([-5.6607094 , -0.51079154,  0.21971433], dtype=float32),\n",
       "  'probabilities': array([0.0018819 , 0.32447195, 0.67364615], dtype=float32),\n",
       "  'class_ids': array([2], dtype=int64),\n",
       "  'classes': array([b'2'], dtype=object),\n",
       "  'all_class_ids': array([0, 1, 2]),\n",
       "  'all_classes': array([b'0', b'1', b'2'], dtype=object)},\n",
       " {'logits': array([-9.188062  , -1.5116994 ,  0.44293934], dtype=float32),\n",
       "  'probabilities': array([5.7512774e-05, 1.2404130e-01, 8.7590116e-01], dtype=float32),\n",
       "  'class_ids': array([2], dtype=int64),\n",
       "  'classes': array([b'2'], dtype=object),\n",
       "  'all_class_ids': array([0, 1, 2]),\n",
       "  'all_classes': array([b'0', b'1', b'2'], dtype=object)},\n",
       " {'logits': array([ 5.117982  ,  0.9335614 , -0.49843132], dtype=float32),\n",
       "  'probabilities': array([0.9814808 , 0.01494896, 0.0035703 ], dtype=float32),\n",
       "  'class_ids': array([0], dtype=int64),\n",
       "  'classes': array([b'0'], dtype=object),\n",
       "  'all_class_ids': array([0, 1, 2]),\n",
       "  'all_classes': array([b'0', b'1', b'2'], dtype=object)},\n",
       " {'logits': array([-7.0693426, -0.9737736,  0.309242 ], dtype=float32),\n",
       "  'probabilities': array([4.8870867e-04, 2.1693127e-01, 7.8258002e-01], dtype=float32),\n",
       "  'class_ids': array([2], dtype=int64),\n",
       "  'classes': array([b'2'], dtype=object),\n",
       "  'all_class_ids': array([0, 1, 2]),\n",
       "  'all_classes': array([b'0', b'1', b'2'], dtype=object)},\n",
       " {'logits': array([ 5.3264084 ,  0.96440774, -0.5167683 ], dtype=float32),\n",
       "  'probabilities': array([0.9845887 , 0.01255631, 0.00285493], dtype=float32),\n",
       "  'class_ids': array([0], dtype=int64),\n",
       "  'classes': array([b'0'], dtype=object),\n",
       "  'all_class_ids': array([0, 1, 2]),\n",
       "  'all_classes': array([b'0', b'1', b'2'], dtype=object)},\n",
       " {'logits': array([-9.1073475 , -1.4985803 ,  0.43503243], dtype=float32),\n",
       "  'probabilities': array([6.2676765e-05, 1.2634332e-01, 8.7359405e-01], dtype=float32),\n",
       "  'class_ids': array([2], dtype=int64),\n",
       "  'classes': array([b'2'], dtype=object),\n",
       "  'all_class_ids': array([0, 1, 2]),\n",
       "  'all_classes': array([b'0', b'1', b'2'], dtype=object)},\n",
       " {'logits': array([-9.422229 , -1.4278265,  0.4492119], dtype=float32),\n",
       "  'probabilities': array([4.4773689e-05, 1.3272347e-01, 8.6723179e-01], dtype=float32),\n",
       "  'class_ids': array([2], dtype=int64),\n",
       "  'classes': array([b'2'], dtype=object),\n",
       "  'all_class_ids': array([0, 1, 2]),\n",
       "  'all_classes': array([b'0', b'1', b'2'], dtype=object)},\n",
       " {'logits': array([-8.357584  , -1.3434004 ,  0.40094972], dtype=float32),\n",
       "  'probabilities': array([1.3372436e-04, 1.4874133e-01, 8.5112494e-01], dtype=float32),\n",
       "  'class_ids': array([2], dtype=int64),\n",
       "  'classes': array([b'2'], dtype=object),\n",
       "  'all_class_ids': array([0, 1, 2]),\n",
       "  'all_classes': array([b'0', b'1', b'2'], dtype=object)},\n",
       " {'logits': array([-9.55098  , -1.5801486,  0.4566782], dtype=float32),\n",
       "  'probabilities': array([3.9853254e-05, 1.1538564e-01, 8.8457453e-01], dtype=float32),\n",
       "  'class_ids': array([2], dtype=int64),\n",
       "  'classes': array([b'2'], dtype=object),\n",
       "  'all_class_ids': array([0, 1, 2]),\n",
       "  'all_classes': array([b'0', b'1', b'2'], dtype=object)},\n",
       " {'logits': array([-9.465715  , -1.5633997 ,  0.45923018], dtype=float32),\n",
       "  'probabilities': array([4.32183115e-05, 1.16842285e-01, 8.83114457e-01], dtype=float32),\n",
       "  'class_ids': array([2], dtype=int64),\n",
       "  'classes': array([b'2'], dtype=object),\n",
       "  'all_class_ids': array([0, 1, 2]),\n",
       "  'all_classes': array([b'0', b'1', b'2'], dtype=object)},\n",
       " {'logits': array([ 5.006007 ,  0.9701913, -0.5315266], dtype=float32),\n",
       "  'probabilities': array([0.9788496 , 0.0172975 , 0.00385297], dtype=float32),\n",
       "  'class_ids': array([0], dtype=int64),\n",
       "  'classes': array([b'0'], dtype=object),\n",
       "  'all_class_ids': array([0, 1, 2]),\n",
       "  'all_classes': array([b'0', b'1', b'2'], dtype=object)},\n",
       " {'logits': array([ 4.937671  ,  1.0131826 , -0.51506776], dtype=float32),\n",
       "  'probabilities': array([0.97652745, 0.0192886 , 0.00418398], dtype=float32),\n",
       "  'class_ids': array([0], dtype=int64),\n",
       "  'classes': array([b'0'], dtype=object),\n",
       "  'all_class_ids': array([0, 1, 2]),\n",
       "  'all_classes': array([b'0', b'1', b'2'], dtype=object)},\n",
       " {'logits': array([ 6.104628  ,  0.5370228 , -0.36788768], dtype=float32),\n",
       "  'probabilities': array([0.9946637 , 0.00379923, 0.00153709], dtype=float32),\n",
       "  'class_ids': array([0], dtype=int64),\n",
       "  'classes': array([b'0'], dtype=object),\n",
       "  'all_class_ids': array([0, 1, 2]),\n",
       "  'all_classes': array([b'0', b'1', b'2'], dtype=object)},\n",
       " {'logits': array([ 7.094334 ,  0.6905945, -0.4601676], dtype=float32),\n",
       "  'probabilities': array([9.9782556e-01, 1.6517561e-03, 5.2260829e-04], dtype=float32),\n",
       "  'class_ids': array([0], dtype=int64),\n",
       "  'classes': array([b'0'], dtype=object),\n",
       "  'all_class_ids': array([0, 1, 2]),\n",
       "  'all_classes': array([b'0', b'1', b'2'], dtype=object)},\n",
       " {'logits': array([-4.5141735 ,  0.16771443,  0.17968701], dtype=float32),\n",
       "  'probabilities': array([0.00458194, 0.49472964, 0.50068843], dtype=float32),\n",
       "  'class_ids': array([2], dtype=int64),\n",
       "  'classes': array([b'2'], dtype=object),\n",
       "  'all_class_ids': array([0, 1, 2]),\n",
       "  'all_classes': array([b'0', b'1', b'2'], dtype=object)},\n",
       " {'logits': array([ 5.452671  ,  0.8739168 , -0.49110335], dtype=float32),\n",
       "  'probabilities': array([0.98727417, 0.01013701, 0.00258875], dtype=float32),\n",
       "  'class_ids': array([0], dtype=int64),\n",
       "  'classes': array([b'0'], dtype=object),\n",
       "  'all_class_ids': array([0, 1, 2]),\n",
       "  'all_classes': array([b'0', b'1', b'2'], dtype=object)},\n",
       " {'logits': array([ 5.379478  ,  0.70330966, -0.43617517], dtype=float32),\n",
       "  'probabilities': array([0.98785406, 0.0092015 , 0.00294433], dtype=float32),\n",
       "  'class_ids': array([0], dtype=int64),\n",
       "  'classes': array([b'0'], dtype=object),\n",
       "  'all_class_ids': array([0, 1, 2]),\n",
       "  'all_classes': array([b'0', b'1', b'2'], dtype=object)},\n",
       " {'logits': array([-8.137355  , -1.3189875 ,  0.37884986], dtype=float32),\n",
       "  'probabilities': array([1.6918895e-04, 1.5472175e-01, 8.4510905e-01], dtype=float32),\n",
       "  'class_ids': array([2], dtype=int64),\n",
       "  'classes': array([b'2'], dtype=object),\n",
       "  'all_class_ids': array([0, 1, 2]),\n",
       "  'all_classes': array([b'0', b'1', b'2'], dtype=object)},\n",
       " {'logits': array([-4.863937  , -0.02752279,  0.19403441], dtype=float32),\n",
       "  'probabilities': array([0.00351756, 0.44327143, 0.55321103], dtype=float32),\n",
       "  'class_ids': array([2], dtype=int64),\n",
       "  'classes': array([b'2'], dtype=object),\n",
       "  'all_class_ids': array([0, 1, 2]),\n",
       "  'all_classes': array([b'0', b'1', b'2'], dtype=object)},\n",
       " {'logits': array([ 5.758734  ,  0.9075415 , -0.52445924], dtype=float32),\n",
       "  'probabilities': array([0.99040645, 0.00774404, 0.00184951], dtype=float32),\n",
       "  'class_ids': array([0], dtype=int64),\n",
       "  'classes': array([b'0'], dtype=object),\n",
       "  'all_class_ids': array([0, 1, 2]),\n",
       "  'all_classes': array([b'0', b'1', b'2'], dtype=object)},\n",
       " {'logits': array([ 5.969231  ,  0.7578194 , -0.47041374], dtype=float32),\n",
       "  'probabilities': array([0.9929985 , 0.00541578, 0.00158579], dtype=float32),\n",
       "  'class_ids': array([0], dtype=int64),\n",
       "  'classes': array([b'0'], dtype=object),\n",
       "  'all_class_ids': array([0, 1, 2]),\n",
       "  'all_classes': array([b'0', b'1', b'2'], dtype=object)},\n",
       " {'logits': array([ 6.627716  ,  0.64237887, -0.40980694], dtype=float32),\n",
       "  'probabilities': array([9.9661785e-01, 2.5068577e-03, 8.7532907e-04], dtype=float32),\n",
       "  'class_ids': array([0], dtype=int64),\n",
       "  'classes': array([b'0'], dtype=object),\n",
       "  'all_class_ids': array([0, 1, 2]),\n",
       "  'all_classes': array([b'0', b'1', b'2'], dtype=object)},\n",
       " {'logits': array([-8.076208  , -1.3143834 ,  0.36714405], dtype=float32),\n",
       "  'probabilities': array([1.8151087e-04, 1.5686485e-01, 8.4295368e-01], dtype=float32),\n",
       "  'class_ids': array([2], dtype=int64),\n",
       "  'classes': array([b'2'], dtype=object),\n",
       "  'all_class_ids': array([0, 1, 2]),\n",
       "  'all_classes': array([b'0', b'1', b'2'], dtype=object)},\n",
       " {'logits': array([-4.739633  , -0.05297916,  0.18246879], dtype=float32),\n",
       "  'probabilities': array([0.00405218, 0.43961978, 0.55632806], dtype=float32),\n",
       "  'class_ids': array([2], dtype=int64),\n",
       "  'classes': array([b'2'], dtype=object),\n",
       "  'all_class_ids': array([0, 1, 2]),\n",
       "  'all_classes': array([b'0', b'1', b'2'], dtype=object)},\n",
       " {'logits': array([-5.559348  , -0.23927297,  0.23391603], dtype=float32),\n",
       "  'probabilities': array([0.00187448, 0.3831422 , 0.6149834 ], dtype=float32),\n",
       "  'class_ids': array([2], dtype=int64),\n",
       "  'classes': array([b'2'], dtype=object),\n",
       "  'all_class_ids': array([0, 1, 2]),\n",
       "  'all_classes': array([b'0', b'1', b'2'], dtype=object)},\n",
       " {'logits': array([ 6.5134397 ,  0.72320884, -0.4807201 ], dtype=float32),\n",
       "  'probabilities': array([9.9604130e-01, 3.0451738e-03, 9.1359223e-04], dtype=float32),\n",
       "  'class_ids': array([0], dtype=int64),\n",
       "  'classes': array([b'0'], dtype=object),\n",
       "  'all_class_ids': array([0, 1, 2]),\n",
       "  'all_classes': array([b'0', b'1', b'2'], dtype=object)},\n",
       " {'logits': array([ 6.1011233,  0.8795543, -0.5285172], dtype=float32),\n",
       "  'probabilities': array([0.99332535, 0.00536282, 0.00131182], dtype=float32),\n",
       "  'class_ids': array([0], dtype=int64),\n",
       "  'classes': array([b'0'], dtype=object),\n",
       "  'all_class_ids': array([0, 1, 2]),\n",
       "  'all_classes': array([b'0', b'1', b'2'], dtype=object)}]"
      ]
     },
     "execution_count": 22,
     "metadata": {},
     "output_type": "execute_result"
    }
   ],
   "source": [
    "predictions"
   ]
  },
  {
   "cell_type": "code",
   "execution_count": 23,
   "metadata": {},
   "outputs": [],
   "source": [
    "final_pred = []\n",
    "for pred in predictions:\n",
    "    final_pred.append(pred['class_ids'][0])"
   ]
  },
  {
   "cell_type": "code",
   "execution_count": 24,
   "metadata": {
    "scrolled": true
   },
   "outputs": [
    {
     "data": {
      "text/plain": [
       "[2,\n",
       " 0,\n",
       " 2,\n",
       " 2,\n",
       " 2,\n",
       " 0,\n",
       " 1,\n",
       " 2,\n",
       " 2,\n",
       " 1,\n",
       " 2,\n",
       " 0,\n",
       " 0,\n",
       " 0,\n",
       " 0,\n",
       " 2,\n",
       " 2,\n",
       " 2,\n",
       " 2,\n",
       " 2,\n",
       " 0,\n",
       " 2,\n",
       " 0,\n",
       " 2,\n",
       " 2,\n",
       " 2,\n",
       " 2,\n",
       " 2,\n",
       " 0,\n",
       " 0,\n",
       " 0,\n",
       " 0,\n",
       " 2,\n",
       " 0,\n",
       " 0,\n",
       " 2,\n",
       " 2,\n",
       " 0,\n",
       " 0,\n",
       " 0,\n",
       " 2,\n",
       " 2,\n",
       " 2,\n",
       " 0,\n",
       " 0]"
      ]
     },
     "execution_count": 24,
     "metadata": {},
     "output_type": "execute_result"
    }
   ],
   "source": [
    "final_pred"
   ]
  },
  {
   "cell_type": "code",
   "execution_count": 28,
   "metadata": {},
   "outputs": [],
   "source": [
    "from sklearn.metrics import classification_report,confusion_matrix,accuracy_score"
   ]
  },
  {
   "cell_type": "code",
   "execution_count": 29,
   "metadata": {},
   "outputs": [
    {
     "name": "stdout",
     "output_type": "stream",
     "text": [
      "[[19  0  0]\n",
      " [ 0  2 11]\n",
      " [ 0  0 13]]\n",
      "              precision    recall  f1-score   support\n",
      "\n",
      "           0       1.00      1.00      1.00        19\n",
      "           1       1.00      0.15      0.27        13\n",
      "           2       0.54      1.00      0.70        13\n",
      "\n",
      "    accuracy                           0.76        45\n",
      "   macro avg       0.85      0.72      0.66        45\n",
      "weighted avg       0.87      0.76      0.70        45\n",
      "\n",
      "0.7555555555555555\n"
     ]
    }
   ],
   "source": [
    "print(confusion_matrix(y_test,final_pred))\n",
    "print(classification_report(y_test,final_pred))\n",
    "print(accuracy_score(y_test,final_pred))"
   ]
  },
  {
   "cell_type": "code",
   "execution_count": null,
   "metadata": {},
   "outputs": [],
   "source": []
  }
 ],
 "metadata": {
  "kernelspec": {
   "display_name": "Python 3",
   "language": "python",
   "name": "python3"
  },
  "language_info": {
   "codemirror_mode": {
    "name": "ipython",
    "version": 3
   },
   "file_extension": ".py",
   "mimetype": "text/x-python",
   "name": "python",
   "nbconvert_exporter": "python",
   "pygments_lexer": "ipython3",
   "version": "3.7.4"
  }
 },
 "nbformat": 4,
 "nbformat_minor": 2
}
